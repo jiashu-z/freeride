{
 "cells": [
  {
   "cell_type": "code",
   "execution_count": 1,
   "id": "04ecccb8",
   "metadata": {},
   "outputs": [],
   "source": [
    "import json\n",
    "from itertools import product"
   ]
  },
  {
   "cell_type": "code",
   "execution_count": 11,
   "id": "e0df3080",
   "metadata": {},
   "outputs": [],
   "source": [
    "side_task_types = [\n",
    "    # \"resnet18\",\n",
    "    # \"resnet50\",\n",
    "    # \"vgg19\",\n",
    "    \"sgd\",\n",
    "    \"pr\",\n",
    "    \"image\",\n",
    "    # \"mix\",\n",
    "]\n",
    "deepspeed_sizes = [\"xxxlarge\"]\n",
    "side_task_batch_sizes = [64]\n",
    "main_task_epoch_sizes = [128]\n",
    "mini_batch_sizes = [4]\n",
    "\n",
    "side_task_throughputs_3080 = {\n",
    "    \"resnet18\": 998.7,\n",
    "    \"resnet50\": 393.4,\n",
    "    \"vgg19\": 161.8,\n",
    "    \"pr\": 126.3,\n",
    "    \"sgd\": 1.5,\n",
    "    \"image\": 7.8,\n",
    "}\n",
    "\n",
    "price_3080 = 0.18\n",
    "price_ada6000 = 3.96"
   ]
  },
  {
   "cell_type": "code",
   "execution_count": 12,
   "id": "9a196b66",
   "metadata": {},
   "outputs": [
    {
     "name": "stdout",
     "output_type": "stream",
     "text": [
      "sgd: hourly_cost: 17.6782, main-task overhead: 1.16%, dollar saving: 19.87%\n",
      "pr: hourly_cost: 21.3282, main-task overhead: 0.05%, dollar saving: 3.06%\n",
      "image: hourly_cost: 20.9415, main-task overhead: 0.74%, dollar saving: 4.85%\n"
     ]
    }
   ],
   "source": [
    "for (\n",
    "    side_task_type,\n",
    "    deepspeed_size,\n",
    "    side_task_batch_size,\n",
    "    main_task_epoch_size,\n",
    "    mini_batch_size,\n",
    ") in product(\n",
    "    side_task_types,\n",
    "    deepspeed_sizes,\n",
    "    side_task_batch_sizes,\n",
    "    main_task_epoch_sizes,\n",
    "    mini_batch_sizes,\n",
    "):\n",
    "    free_ride_output_prefix = f\"../../e2e_freeride_ada6000_{deepspeed_size}_{side_task_type}_{mini_batch_size}\"\n",
    "    vanilla_output_prefix = f\"../../out/e2e_vanilla_deepspeed_baseline_ada6000_{deepspeed_size}_{main_task_epoch_size}_{mini_batch_size}\"\n",
    "\n",
    "    side_task_progress = 0\n",
    "    stages = [0, 1, 2, 3]\n",
    "    for stage in stages:\n",
    "        side_task_progress_output = f\"{free_ride_output_prefix}_{stage}_side_task.txt\"\n",
    "        try:\n",
    "            with open(side_task_progress_output, \"r\") as f:\n",
    "                side_task_progress += sum(int(line.strip()) for line in f)\n",
    "        except:\n",
    "            pass\n",
    "    main_task_time_output = (\n",
    "        f\"{free_ride_output_prefix}_{main_task_epoch_size}_stage0.json\"\n",
    "    )\n",
    "    main_task_time = 0\n",
    "    with open(main_task_time_output, \"r\") as f:\n",
    "        main_task_time = json.load(f)[\"time\"]\n",
    "\n",
    "    vanilla_time_output = f\"{vanilla_output_prefix}_stage0.json\"\n",
    "    vanilla_time = 0\n",
    "    with open(vanilla_time_output, \"r\") as f:\n",
    "        vanilla_time = json.load(f)[\"time\"]\n",
    "\n",
    "    side_task_throughput = side_task_progress / main_task_time\n",
    "    main_time_change = (main_task_time - vanilla_time) / vanilla_time\n",
    "\n",
    "    hourly_cost = (\n",
    "        (main_task_time * (price_ada6000 / price_3080))\n",
    "        - (side_task_progress / side_task_throughputs_3080[side_task_type])\n",
    "    ) / main_task_time\n",
    "    hourly_cost = round(hourly_cost, 4)\n",
    "    dollar_saving = -(main_task_time / vanilla_time) * (\n",
    "        1\n",
    "        - (side_task_throughput / side_task_throughputs_3080[side_task_type])\n",
    "        / (price_ada6000 / price_3080)\n",
    "        - 1\n",
    "    )\n",
    "    dollar_saving = round(dollar_saving, 4)\n",
    "    main_time_change_percent = round(main_time_change * 100, 2)\n",
    "    dollar_saving_percent = round(dollar_saving * 100, 2)\n",
    "\n",
    "    print(\n",
    "        f\"{side_task_type}: hourly_cost: {hourly_cost}, main-task overhead: {main_time_change_percent}%, dollar saving: {dollar_saving_percent}%\"\n",
    "    )"
   ]
  },
  {
   "cell_type": "code",
   "execution_count": null,
   "id": "674f3682",
   "metadata": {},
   "outputs": [],
   "source": []
  }
 ],
 "metadata": {
  "kernelspec": {
   "display_name": "freeride",
   "language": "python",
   "name": "python3"
  },
  "language_info": {
   "codemirror_mode": {
    "name": "ipython",
    "version": 3
   },
   "file_extension": ".py",
   "mimetype": "text/x-python",
   "name": "python",
   "nbconvert_exporter": "python",
   "pygments_lexer": "ipython3",
   "version": "3.11.13"
  }
 },
 "nbformat": 4,
 "nbformat_minor": 5
}
